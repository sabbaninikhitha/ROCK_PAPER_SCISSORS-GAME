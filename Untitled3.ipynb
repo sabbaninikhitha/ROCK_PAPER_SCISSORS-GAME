{
 "cells": [
  {
   "cell_type": "code",
   "execution_count": 2,
   "id": "1439cb75",
   "metadata": {},
   "outputs": [
    {
     "name": "stdout",
     "output_type": "stream",
     "text": [
      "choose among the following ['rock', 'paper', 'scissor']\n",
      "enter your choice:rock\n",
      "computer choice: scissor\n",
      "user score: 1\n",
      "computercsore 0\n",
      "choose among the following ['rock', 'paper', 'scissor']\n",
      "enter your choice:paper\n",
      "computer choice: paper\n",
      "draw\n",
      "user score: 1\n",
      "computercsore 0\n",
      "choose among the following ['rock', 'paper', 'scissor']\n",
      "enter your choice:scissor\n",
      "computer choice: rock\n",
      "user score: 1\n",
      "computercsore 1\n",
      "choose among the following ['rock', 'paper', 'scissor']\n",
      "enter your choice:rock\n",
      "computer choice: scissor\n",
      "user score: 2\n",
      "computercsore 1\n",
      "choose among the following ['rock', 'paper', 'scissor']\n",
      "enter your choice:paper\n",
      "computer choice: rock\n",
      "user score: 3\n",
      "computercsore 1\n",
      "user won the match 3\n"
     ]
    }
   ],
   "source": [
    "from random import randint\n",
    "choice=[\"rock\",\"paper\",\"scissor\"]\n",
    "userscore=0\n",
    "computerscore=0\n",
    "limit=3\n",
    "while computerscore!= limit and userscore!=limit:\n",
    "    print(\"choose among the following\",choice)\n",
    "    user=input(\"enter your choice:\").lower()\n",
    "    if user not in choice:\n",
    "        print(\"invald input\")\n",
    "        continue\n",
    "    computer=choice[int(randint(0,2))]\n",
    "    print(\"computer choice:\",computer)\n",
    "    if user==computer:\n",
    "        print(\"draw\")\n",
    "    elif(user==\"rock\" and computer==\"scissor\"):\n",
    "        userscore+=1\n",
    "    elif(user==\"paper\"  and computer==\"rock\"):\n",
    "        userscore+=1\n",
    "    elif(user==\"scissor\" and computer==\"paper\"):\n",
    "        userscore+=1\n",
    "    else:\n",
    "        computerscore+=1\n",
    "    print(\"user score:\",userscore)\n",
    "    print(\"computercsore\",computerscore)\n",
    "if userscore>computerscore:\n",
    "    print(\"user won the match\",userscore)\n",
    "else:\n",
    "    print(\"computer won the match\",computerscore)"
   ]
  }
 ],
 "metadata": {
  "kernelspec": {
   "display_name": "Python 3",
   "language": "python",
   "name": "python3"
  },
  "language_info": {
   "codemirror_mode": {
    "name": "ipython",
    "version": 3
   },
   "file_extension": ".py",
   "mimetype": "text/x-python",
   "name": "python",
   "nbconvert_exporter": "python",
   "pygments_lexer": "ipython3",
   "version": "3.8.8"
  }
 },
 "nbformat": 4,
 "nbformat_minor": 5
}
